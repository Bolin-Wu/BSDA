{
  "nbformat": 4,
  "nbformat_minor": 0,
  "metadata": {
    "colab": {
      "name": "bsda_colab_template.ipynb",
      "provenance": [],
      "collapsed_sections": [
        "Z7_dLXw_yM9e",
        "GMlmnXt6zQjC",
        "xHC-Y7Rryx_H"
      ],
      "include_colab_link": true
    },
    "kernelspec": {
      "name": "ir",
      "display_name": "R"
    }
  },
  "cells": [
    {
      "cell_type": "markdown",
      "metadata": {
        "id": "view-in-github",
        "colab_type": "text"
      },
      "source": [
        "<a href=\"https://colab.research.google.com/github/MansMeg/BSDA/blob/main/bsda_colab_template.ipynb\" target=\"_parent\"><img src=\"https://colab.research.google.com/assets/colab-badge.svg\" alt=\"Open In Colab\"/></a>"
      ]
    },
    {
      "cell_type": "markdown",
      "source": [
        "# BSDA: Assignment COLAB Template\n",
        "\n",
        "This template contain information on using Google COLAB to run code in the assignments of the course. Just as R-markdown, COLAB is built upon markdown. More information on how you can add equations and format your report you can find [here](https://colab.research.google.com/notebooks/markdown_guide.ipynb).\n",
        "\n",
        "When using this template for assignments report, just keep the \"Setting the stage\" part below. That will install everything you need. Then start by filling out the general information. After the general information below are examples of using `bsda`, `markmyassignment` and `rstan`. Remove these parts and add your own work instead. Good luck!"
      ],
      "metadata": {
        "id": "uYMilov8ubkU"
      }
    },
    {
      "cell_type": "markdown",
      "source": [
        "## Setting the stage\n",
        "We start by installing nessecary packages for the course. This include Stan/Rstan, loo, the bsda course R package, and markmyassignment."
      ],
      "metadata": {
        "id": "Z7_dLXw_yM9e"
      }
    },
    {
      "cell_type": "markdown",
      "source": [
        "### Installing Stan/Rstan"
      ],
      "metadata": {
        "id": "sDU8qkbfNKLB"
      }
    },
    {
      "cell_type": "code",
      "metadata": {
        "id": "rCEtur7fajGn"
      },
      "source": [
        "#cat(system('python3 -c \"from google.colab import drive\\ndrive.mount()\"', intern=TRUE), sep='\\n', wait=TRUE)"
      ],
      "execution_count": null,
      "outputs": []
    },
    {
      "cell_type": "code",
      "metadata": {
        "id": "3o11KxDzyC0g"
      },
      "source": [
        "# takes rougly 1m \n",
        "#install.packages(\"rgl\", repos = \"http://cran.rstudio.com/\")\n",
        "#install.packages(\"ConsRank\", repos = \"http://cran.rstudio.com/\")\n",
        "#library(\"ConsRank\")"
      ],
      "execution_count": null,
      "outputs": []
    },
    {
      "cell_type": "code",
      "metadata": {
        "id": "SPYGePw53fWq"
      },
      "source": [
        "# system(\"add-apt-repository -y ppa:marutter/rrutter\")\n",
        "# system(\"add-apt-repository -y ppa:marutter/c2d4u\")\n",
        "system(\"apt-get update\")\n",
        "system(\"apt install -y r-cran-rstan\")"
      ],
      "execution_count": null,
      "outputs": []
    },
    {
      "cell_type": "code",
      "metadata": {
        "id": "1IzjHJFxv01f"
      },
      "source": [
        "#install.packages('ggmap')\n",
        "#install.packages('codetools')"
      ],
      "execution_count": null,
      "outputs": []
    },
    {
      "cell_type": "code",
      "metadata": {
        "id": "sdyV67dk2vGx"
      },
      "source": [
        "#library(\"ggmap\")"
      ],
      "execution_count": null,
      "outputs": []
    },
    {
      "cell_type": "code",
      "metadata": {
        "id": "qIbhtDzdwYdB",
        "outputId": "fa4dc4bc-93e2-4fb4-ad09-553d8f0ee2e8",
        "colab": {
          "base_uri": "https://localhost:8080/"
        }
      },
      "source": [
        "options(repr.plot.width  = 3,\n",
        "        repr.plot.height = 3)\n",
        "Sys.setenv(USE_CXX14 = 1)\n",
        "library(\"rstan\") # observe startup messages\n",
        "options(mc.cores = parallel::detectCores())\n",
        "rstan_options(auto_write = TRUE)"
      ],
      "execution_count": null,
      "outputs": [
        {
          "output_type": "stream",
          "name": "stderr",
          "text": [
            "Loading required package: StanHeaders\n",
            "\n",
            "Loading required package: ggplot2\n",
            "\n",
            "rstan (Version 2.21.5, GitRev: 2e1f913d3ca3)\n",
            "\n",
            "For execution on a local, multicore CPU with excess RAM we recommend calling\n",
            "options(mc.cores = parallel::detectCores()).\n",
            "To avoid recompilation of unchanged Stan programs, we recommend calling\n",
            "rstan_options(auto_write = TRUE)\n",
            "\n"
          ]
        }
      ]
    },
    {
      "cell_type": "markdown",
      "source": [
        "### Installing `bsda`"
      ],
      "metadata": {
        "id": "mcJ1FPcvNOS4"
      }
    },
    {
      "cell_type": "code",
      "source": [
        "install.packages(\"remotes\")\n",
        "remotes::install_github(\"MansMeg/BSDA\", subdir = \"rpackage\")"
      ],
      "metadata": {
        "id": "UvPhBYf9NSo6",
        "outputId": "27e00a3a-58e1-487a-b58e-8f695ddcb9c4",
        "colab": {
          "base_uri": "https://localhost:8080/"
        }
      },
      "execution_count": null,
      "outputs": [
        {
          "output_type": "stream",
          "name": "stderr",
          "text": [
            "Installing package into ‘/usr/local/lib/R/site-library’\n",
            "(as ‘lib’ is unspecified)\n",
            "\n",
            "Downloading GitHub repo MansMeg/BSDA@HEAD\n",
            "\n"
          ]
        },
        {
          "output_type": "stream",
          "name": "stdout",
          "text": [
            "\n",
            "* checking for file ‘/tmp/RtmpZR0NPV/remotes3d54992b8c/MansMeg-BSDA-53218b3/rpackage/DESCRIPTION’ ... OK\n",
            "* preparing ‘bsda’:\n",
            "* checking DESCRIPTION meta-information ... OK\n",
            "* checking for LF line-endings in source and make files and shell scripts\n",
            "* checking for empty or unneeded directories\n",
            "* building ‘bsda_0.3.1.tar.gz’\n",
            "\n"
          ]
        },
        {
          "output_type": "stream",
          "name": "stderr",
          "text": [
            "Installing package into ‘/usr/local/lib/R/site-library’\n",
            "(as ‘lib’ is unspecified)\n",
            "\n"
          ]
        }
      ]
    },
    {
      "cell_type": "code",
      "source": [
        "library(bsda)\n",
        "data(algae)\n",
        "head(algae)"
      ],
      "metadata": {
        "id": "FPCSB9tlNui2",
        "outputId": "b72f0916-82d7-420d-91cd-c9c8287366ed",
        "colab": {
          "base_uri": "https://localhost:8080/",
          "height": 34
        }
      },
      "execution_count": null,
      "outputs": [
        {
          "output_type": "display_data",
          "data": {
            "text/html": [
              "<style>\n",
              ".list-inline {list-style: none; margin:0; padding: 0}\n",
              ".list-inline>li {display: inline-block}\n",
              ".list-inline>li:not(:last-child)::after {content: \"\\00b7\"; padding: 0 .5ex}\n",
              "</style>\n",
              "<ol class=list-inline><li>0</li><li>1</li><li>1</li><li>0</li><li>0</li><li>0</li></ol>\n"
            ],
            "text/markdown": "1. 0\n2. 1\n3. 1\n4. 0\n5. 0\n6. 0\n\n\n",
            "text/latex": "\\begin{enumerate*}\n\\item 0\n\\item 1\n\\item 1\n\\item 0\n\\item 0\n\\item 0\n\\end{enumerate*}\n",
            "text/plain": [
              "[1] 0 1 1 0 0 0"
            ]
          },
          "metadata": {}
        }
      ]
    },
    {
      "cell_type": "markdown",
      "source": [
        "### Installing `markmyassignment` and `loo`"
      ],
      "metadata": {
        "id": "2dybTe54N9Hi"
      }
    },
    {
      "cell_type": "code",
      "source": [
        "install.packages(c(\"loo\", \"markmyassignment\"))"
      ],
      "metadata": {
        "id": "AHqaB1aCOD2d",
        "outputId": "a2c83752-5847-414e-82e3-4d34b4a55a41",
        "colab": {
          "base_uri": "https://localhost:8080/"
        }
      },
      "execution_count": null,
      "outputs": [
        {
          "output_type": "stream",
          "name": "stderr",
          "text": [
            "Installing packages into ‘/usr/local/lib/R/site-library’\n",
            "(as ‘lib’ is unspecified)\n",
            "\n"
          ]
        }
      ]
    },
    {
      "cell_type": "markdown",
      "source": [
        "## General information\n",
        "When you write your assignment report, don't forget to include the general infromations. See the R-markdown template for details [here](https://github.com/MansMeg/BSDA/blob/main/templates/assignment_template.rmd)."
      ],
      "metadata": {
        "id": "d5lVU35CUGZU"
      }
    },
    {
      "cell_type": "markdown",
      "source": [
        "## Running R code in COLAB\n",
        "We can run R code in COLAB just as we would run R code in R-Studio. Just add a code block with your R code and press the run button."
      ],
      "metadata": {
        "id": "GMlmnXt6zQjC"
      }
    },
    {
      "cell_type": "code",
      "metadata": {
        "id": "xLlQFtlPxD5j",
        "colab": {
          "base_uri": "https://localhost:8080/"
        },
        "outputId": "46df5bff-7aff-43f2-90bd-97a366653934"
      },
      "source": [
        "x <- seq(0, 2*pi, length.out=50)\n",
        "plot(x, sin(x))"
      ],
      "execution_count": null,
      "outputs": [
        {
          "output_type": "display_data",
          "data": {
            "text/plain": [
              "plot without title"
            ],
            "image/png": "[encoded data removed]"
          },
          "metadata": {
            "image/png": {
              "width": 180,
              "height": 180
            }
          }
        }
      ]
    },
    {
      "cell_type": "markdown",
      "source": [
        "## Using the `bsda` R package\n",
        "When `bsda` is installed, it is just like using any other R package. "
      ],
      "metadata": {
        "id": "xHC-Y7Rryx_H"
      }
    },
    {
      "cell_type": "code",
      "source": [
        "library(bsda)\n",
        "data(algae)\n",
        "print(algae)"
      ],
      "metadata": {
        "id": "qKMwKjjQO2Xn",
        "outputId": "715f1f7b-db0d-4e33-e61a-5d0b3ad07f76",
        "colab": {
          "base_uri": "https://localhost:8080/"
        }
      },
      "execution_count": null,
      "outputs": [
        {
          "output_type": "stream",
          "name": "stdout",
          "text": [
            "  [1] 0 1 1 0 0 0 0 0 0 0 0 0 0 0 1 0 0 0 1 0 0 1 0 0 0 0 0 0 0 0 0 0 0 0 0 0 0\n",
            " [38] 0 1 0 0 0 0 0 0 0 0 0 0 0 0 0 0 0 0 0 0 0 1 0 0 1 0 0 0 1 0 0 0 1 0 0 0 1\n",
            " [75] 0 0 1 0 0 0 1 0 0 0 1 0 0 0 0 0 0 1 0 0 0 0 0 0 1 0 0 1 0 1 0 0 0 1 0 0 0\n",
            "[112] 0 0 1 0 1 1 0 0 0 0 0 0 0 0 0 0 0 0 0 1 0 0 0 1 0 0 1 0 0 0 0 0 0 0 0 0 0\n",
            "[149] 0 0 0 0 0 0 0 0 0 0 1 0 0 1 0 0 0 0 0 0 0 0 0 1 0 0 0 0 0 0 0 0 0 0 1 0 0\n",
            "[186] 1 1 1 0 0 0 0 0 1 0 0 0 0 0 1 0 0 0 0 0 0 0 0 0 0 0 0 0 0 0 0 0 1 0 0 1 1\n",
            "[223] 0 0 0 0 0 0 1 0 0 0 0 0 1 0 0 0 0 0 0 0 0 0 0 0 0 1 0 0 0 0 0 1 0 0 0 0 0\n",
            "[260] 0 0 1 0 0 0 1 1 0 0 0 0 0 0 0\n"
          ]
        }
      ]
    },
    {
      "cell_type": "markdown",
      "source": [
        "## Using `markmyassignment`\n",
        "The `markmyassignment` R package is a way to use use unit tests to check your code for automatic feedback. This will help testing that your code works as expected. For detailed information on how to use `markmyassignment` as a student, see [this introduction](https://cran.r-project.org/web/packages/markmyassignment/vignettes/markmyassignment.html)."
      ],
      "metadata": {
        "id": "utmepSbnOfL4"
      }
    },
    {
      "cell_type": "code",
      "source": [
        "library(markmyassignment)\n",
        "assignment_path <- \n",
        " file.path(system.file(package = \"markmyassignment\"), \"extdata\", \"example_assignment01.yml\")\n",
        "set_assignment(assignment_path)"
      ],
      "metadata": {
        "id": "Eflx3mp5P69e",
        "outputId": "8eba450c-66ec-4ed7-f972-59e32c90eb05",
        "colab": {
          "base_uri": "https://localhost:8080/"
        }
      },
      "execution_count": null,
      "outputs": [
        {
          "output_type": "stream",
          "name": "stderr",
          "text": [
            "Assignment set:\n",
            "Test assignment 01: An example of an assignment.\n",
            "The assignment contain the following (2) tasks:\n",
            "- task1\n",
            "- task2\n",
            "\n",
            "\n"
          ]
        }
      ]
    },
    {
      "cell_type": "markdown",
      "source": [
        "In this example assignment, there are two tasks and also a mandatory requirement.\n",
        "\n",
        "**Mandatory requirement:**\n",
        "\n",
        "Store your name in the variable my_name.\n",
        "\n",
        "**task1:**\n",
        "\n",
        "Create a vector containing the values of π and e. The name of the vector should be task1.\n",
        "\n",
        "**task2:**\n",
        "\n",
        "Create a function that takes a numeric vector as the argument and returns the sum of the first and last element. Name the function task2.\n",
        "\n",
        "We start to solve this assignment by solving the first task."
      ],
      "metadata": {
        "id": "Vv29gtvKQTa4"
      }
    },
    {
      "cell_type": "code",
      "source": [
        "task1 <- c(pi, exp(1))\n",
        "print(task1)"
      ],
      "metadata": {
        "id": "xsW0_S8WQLr_",
        "outputId": "286c3166-0670-4670-d380-4427a002d583",
        "colab": {
          "base_uri": "https://localhost:8080/"
        }
      },
      "execution_count": null,
      "outputs": [
        {
          "output_type": "stream",
          "name": "stdout",
          "text": [
            "[1] 3.141593 2.718282\n"
          ]
        }
      ]
    },
    {
      "cell_type": "code",
      "source": [
        "mark_my_assignment()"
      ],
      "metadata": {
        "id": "6a47bnKtQdwl",
        "outputId": "26f3018a-2716-44ff-9b70-c560e7df8eeb",
        "colab": {
          "base_uri": "https://localhost:8080/"
        }
      },
      "execution_count": null,
      "outputs": [
        {
          "output_type": "stream",
          "name": "stdout",
          "text": [
            "\u001b[32m✔\u001b[39m | \u001b[33mF\u001b[39m \u001b[35mW\u001b[39m \u001b[34mS\u001b[39m \u001b[32m OK\u001b[39m | Context\n",
            "\n",
            "⠏ |         0 | mandatory-1                                                     \n",
            "⠏ |         0 | Mandatory tests                                                 \n",
            "\u001b[33m⠋\u001b[39m | \u001b[33m1\u001b[39m       0 | Mandatory tests                                                 \n",
            "\u001b[31m✖\u001b[39m | \u001b[33m1\u001b[39m       0 | Mandatory tests\u001b[90m [0.3s]\u001b[39m\n",
            "────────────────────────────────────────────────────────────────────────────────\n",
            "\u001b[1m\u001b[33mFailure\u001b[39m (test-mandatory-1.R:6:3): Mandatory tests\u001b[22m\n",
            "exists(\"my_name\") is not TRUE\n",
            "\n",
            "`actual`:   \u001b[32mFALSE\u001b[39m\n",
            "`expected`: \u001b[32mTRUE\u001b[39m \n",
            "Variable my_name is missing\n",
            "────────────────────────────────────────────────────────────────────────────────\n",
            "\n",
            "⠏ |         0 | task-1-subtask-1-tests                                          \n",
            "⠏ |         0 | task1                                                           \n",
            "\u001b[32m✔\u001b[39m |         3 | task1\n",
            "\n",
            "⠏ |         0 | task-2-subtask-1-tests                                          \n",
            "⠏ |         0 | task2a                                                          \n",
            "\u001b[31m✖\u001b[39m | \u001b[33m2\u001b[39m       0 | task2a\n",
            "────────────────────────────────────────────────────────────────────────────────\n",
            "\u001b[1m\u001b[33mFailure\u001b[39m (test-task-2-subtask-1-tests.R:6:3): Marking task2\u001b[22m\n",
            "exists(\"task2\") is not TRUE\n",
            "\n",
            "`actual`:   \u001b[32mFALSE\u001b[39m\n",
            "`expected`: \u001b[32mTRUE\u001b[39m \n",
            "task2() does not exist.\n",
            "\n",
            "\u001b[1m\u001b[33mError\u001b[39m (test-task-2-subtask-1-tests.R:7:3): Marking task2\u001b[22m\n",
            "Error in `eval_bare(expr, quo_get_env(quo))`: object 'task2' not found\n",
            "\u001b[1mBacktrace:\u001b[22m\n",
            "\u001b[90m 1. \u001b[39m\u001b[1mtestthat\u001b[22m::expect_is(task2, \"function\", info = \"task2 is not a function.\")\n",
            "\u001b[90m      at test-task-2-subtask-1-tests.R:7:2\u001b[39m\n",
            "\u001b[90m 2. \u001b[39mtestthat::quasi_label(enquo(object), label, arg = \"object\")\n",
            "\u001b[90m 3. \u001b[39m\u001b[1mrlang\u001b[22m::eval_bare(expr, quo_get_env(quo))\n",
            "────────────────────────────────────────────────────────────────────────────────\n",
            "\n",
            "⠏ |         0 | task-2-subtask-2-tests                                          \n",
            "⠏ |         0 | task2b                                                          \n",
            "\u001b[31m✖\u001b[39m | \u001b[33m1\u001b[39m       0 | task2b\n",
            "────────────────────────────────────────────────────────────────────────────────\n",
            "\u001b[1m\u001b[33mError\u001b[39m (test-task-2-subtask-2-tests.R:6:3): Mark even more on task2\u001b[22m\n",
            "Error in `task2(5:10)`: could not find function \"task2\"\n",
            "\u001b[1mBacktrace:\u001b[22m\n",
            "\u001b[90m 1. \u001b[39m\u001b[1mtestthat\u001b[22m::expect_is(task2(5:10), \"integer\", info = \"task2 don't return an integer.\")\n",
            "\u001b[90m      at test-task-2-subtask-2-tests.R:6:2\u001b[39m\n",
            "\u001b[90m 2. \u001b[39mtestthat::quasi_label(enquo(object), label, arg = \"object\")\n",
            "\u001b[90m 3. \u001b[39m\u001b[1mrlang\u001b[22m::eval_bare(expr, quo_get_env(quo))\n",
            "────────────────────────────────────────────────────────────────────────────────\n",
            "\n",
            "══ \u001b[1mResults\u001b[22m ═════════════════════════════════════════════════════════════════════\n",
            "\u001b[36mDuration: 0.8 s\u001b[39m\n",
            "\n",
            "[ \u001b[33mFAIL\u001b[39m 4 | WARN 0 | SKIP 0 | PASS 3 ]\n"
          ]
        }
      ]
    },
    {
      "cell_type": "markdown",
      "source": [
        "That did not work very well. This is how it looks when something goes wrong when the markmyassignment package is used. It looks daunting. The problem here is that `task2` is missing and also the mandatory variable `my_name` is missing.\n",
        "\n",
        "\n",
        "Below we fix the errors and show how it would look when everything works as it should. For a more indepth walk-trhough, see the full vignette [here](https://cran.r-project.org/web/packages/markmyassignment/vignettes/markmyassignment.html)."
      ],
      "metadata": {
        "id": "D4czGQuQQkw-"
      }
    },
    {
      "cell_type": "code",
      "source": [
        "# Lets add task2\n",
        "task2 <- function(vector) vector[1] + vector[length(vector)]\n",
        "# And also add our name\n",
        "my_name <- \"Thomas Bayes\"\n",
        "# And lets check the results\n",
        "mark_my_assignment()"
      ],
      "metadata": {
        "id": "dTgcmjWMRXYR",
        "outputId": "b03af28d-e434-4377-87f7-db8d7a415ca1",
        "colab": {
          "base_uri": "https://localhost:8080/"
        }
      },
      "execution_count": null,
      "outputs": [
        {
          "output_type": "stream",
          "name": "stdout",
          "text": [
            "\u001b[32m✔\u001b[39m | \u001b[33mF\u001b[39m \u001b[35mW\u001b[39m \u001b[34mS\u001b[39m \u001b[32m OK\u001b[39m | Context\n",
            "\n",
            "⠏ |         0 | mandatory-1                                                     \n",
            "⠏ |         0 | Mandatory tests                                                 \n",
            "\u001b[32m✔\u001b[39m |         1 | Mandatory tests\n",
            "\n",
            "⠏ |         0 | task-1-subtask-1-tests                                          \n",
            "⠏ |         0 | task1                                                           \n",
            "\u001b[32m✔\u001b[39m |         3 | task1\n",
            "\n",
            "⠏ |         0 | task-2-subtask-1-tests                                          \n",
            "⠏ |         0 | task2a                                                          \n",
            "\u001b[32m✔\u001b[39m |         3 | task2a\n",
            "\n",
            "⠏ |         0 | task-2-subtask-2-tests                                          \n",
            "⠏ |         0 | task2b                                                          \n",
            "\u001b[32m✔\u001b[39m |         4 | task2b\n",
            "\n",
            "══ \u001b[1mResults\u001b[22m ═════════════════════════════════════════════════════════════════════\n",
            "[ FAIL 0 | WARN 0 | SKIP 0 | \u001b[32mPASS\u001b[39m 11 ]\n",
            "Good work!"
          ]
        }
      ]
    },
    {
      "cell_type": "markdown",
      "source": [
        "## Using RStan/Stan\n",
        "Below are two simple examples of running Stan for two simple models. First we just try to estimate the mean of a data where the standard deviation is known, then we take the classical `rats` example. "
      ],
      "metadata": {
        "id": "x9st_16UzZJw"
      }
    },
    {
      "cell_type": "markdown",
      "source": [
        "### The unknown mean model"
      ],
      "metadata": {
        "id": "XkEY15LVORdu"
      }
    },
    {
      "cell_type": "code",
      "metadata": {
        "id": "lxBXXzeIx6aA"
      },
      "source": [
        "library(rstan)\n",
        "stan_model_code <- \"\n",
        "data {\n",
        "    int<lower=0> N; \n",
        "    real y[N];\n",
        "}\n",
        "\n",
        "parameters {\n",
        "    real mu; \n",
        "\n",
        "}\n",
        "\n",
        "model {\n",
        "    target += normal_lpdf(mu | 0, 10);\n",
        "    target += normal_lpdf(y | mu, 1);\n",
        "}\"\n",
        "\n",
        "\n",
        "# Create an example data set\n",
        "set.seed(4711)\n",
        "dat <- list(N = 20, y = rnorm(20));\n",
        "\n",
        "# Run rstan for the model\n",
        "fit <- stan(model_code = stan_model_code, model_name = \"example_model\",\n",
        "            data = dat, iter = 2000, chains = 4)\n"
      ],
      "execution_count": null,
      "outputs": []
    },
    {
      "cell_type": "markdown",
      "source": [
        "As the next step we check that we don't have any divergent transitions."
      ],
      "metadata": {
        "id": "kSqeqzk4L0bO"
      }
    },
    {
      "cell_type": "code",
      "source": [
        "# We check that no HMC draw did diverge\n",
        "check_divergences(fit)"
      ],
      "metadata": {
        "id": "t_352u9JLzw1",
        "colab": {
          "base_uri": "https://localhost:8080/"
        },
        "outputId": "c75f6ec7-5fd7-43e9-be12-3114dfeb8e8f"
      },
      "execution_count": null,
      "outputs": [
        {
          "output_type": "stream",
          "name": "stderr",
          "text": [
            "0 of 4000 iterations ended with a divergence.\n",
            "\n"
          ]
        }
      ]
    },
    {
      "cell_type": "markdown",
      "source": [
        "To look at the results we can simply use `print` in R."
      ],
      "metadata": {
        "id": "keQtRTzoGcse"
      }
    },
    {
      "cell_type": "code",
      "source": [
        "# Print the results\n",
        "print(fit)"
      ],
      "metadata": {
        "colab": {
          "base_uri": "https://localhost:8080/"
        },
        "id": "kZ67roHUGlC-",
        "outputId": "dd9c5107-67d5-4c0d-c541-94618c527a46"
      },
      "execution_count": null,
      "outputs": [
        {
          "output_type": "stream",
          "name": "stdout",
          "text": [
            "Inference for Stan model: example_model.\n",
            "4 chains, each with iter=2000; warmup=1000; thin=1; \n",
            "post-warmup draws per chain=1000, total post-warmup draws=4000.\n",
            "\n",
            "       mean se_mean   sd   2.5%    25%    50%    75%  97.5% n_eff Rhat\n",
            "mu     0.12    0.01 0.22  -0.32  -0.03   0.11   0.27   0.55  1545    1\n",
            "lp__ -31.53    0.02 0.70 -33.49 -31.68 -31.26 -31.08 -31.04  1659    1\n",
            "\n",
            "Samples were drawn using NUTS(diag_e) at Sun Jun 26 09:29:55 2022.\n",
            "For each parameter, n_eff is a crude measure of effective sample size,\n",
            "and Rhat is the potential scale reduction factor on split chains (at \n",
            "convergence, Rhat=1).\n"
          ]
        }
      ]
    },
    {
      "cell_type": "markdown",
      "source": [
        "If we don't have too many parameters, we can also visualize the results with `plot`."
      ],
      "metadata": {
        "id": "Cczs39_tGpN1"
      }
    },
    {
      "cell_type": "code",
      "metadata": {
        "id": "Vmo1YXVcx91I",
        "colab": {
          "base_uri": "https://localhost:8080/",
          "height": 268
        },
        "outputId": "a90e1ae0-71ff-460b-b2c8-f4824993dc6a"
      },
      "source": [
        "plot(fit)"
      ],
      "execution_count": null,
      "outputs": [
        {
          "output_type": "stream",
          "name": "stderr",
          "text": [
            "ci_level: 0.8 (80% intervals)\n",
            "\n",
            "outer_level: 0.95 (95% intervals)\n",
            "\n"
          ]
        },
        {
          "output_type": "display_data",
          "data": {
            "text/plain": [
              "plot without title"
            ],
            "image/png": "[encoded data removed]"
          },
          "metadata": {
            "image/png": {
              "width": 180,
              "height": 180
            }
          }
        }
      ]
    },
    {
      "cell_type": "markdown",
      "source": [
        "### The rats model\n",
        "Below we run a slightly more complicated model. We start out by setting up the data."
      ],
      "metadata": {
        "id": "0wW8WTNvJuhz"
      }
    },
    {
      "cell_type": "code",
      "metadata": {
        "id": "0ocs9zTCx-Sw",
        "colab": {
          "base_uri": "https://localhost:8080/"
        },
        "outputId": "5f753993-cbd3-47ff-83b6-38cddfe9dccb"
      },
      "source": [
        "# Create the rats dataset\n",
        "y <- as.matrix(read.table('https://raw.github.com/wiki/stan-dev/rstan/rats.txt', header = TRUE))\n",
        "x <- as.array(c(8, 15, 22, 29, 36))\n",
        "xbar <- mean(x)\n",
        "N <- nrow(y)\n",
        "T <- ncol(y)\n",
        "dat <- list(N=N, T=T, y=y, x=x, xbar=xbar)\n",
        "print(dat)"
      ],
      "execution_count": null,
      "outputs": [
        {
          "output_type": "stream",
          "name": "stdout",
          "text": [
            "$N\n",
            "[1] 30\n",
            "\n",
            "$T\n",
            "[1] 5\n",
            "\n",
            "$y\n",
            "      day8 day15 day22 day29 day36\n",
            " [1,]  151   199   246   283   320\n",
            " [2,]  145   199   249   293   354\n",
            " [3,]  147   214   263   312   328\n",
            " [4,]  155   200   237   272   297\n",
            " [5,]  135   188   230   280   323\n",
            " [6,]  159   210   252   298   331\n",
            " [7,]  141   189   231   275   305\n",
            " [8,]  159   201   248   297   338\n",
            " [9,]  177   236   285   350   376\n",
            "[10,]  134   182   220   260   296\n",
            "[11,]  160   208   261   313   352\n",
            "[12,]  143   188   220   273   314\n",
            "[13,]  154   200   244   289   325\n",
            "[14,]  171   221   270   326   358\n",
            "[15,]  163   216   242   281   312\n",
            "[16,]  160   207   248   288   324\n",
            "[17,]  142   187   234   280   316\n",
            "[18,]  156   203   243   283   317\n",
            "[19,]  157   212   259   307   336\n",
            "[20,]  152   203   246   286   321\n",
            "[21,]  154   205   253   298   334\n",
            "[22,]  139   190   225   267   302\n",
            "[23,]  146   191   229   272   302\n",
            "[24,]  157   211   250   285   323\n",
            "[25,]  132   185   237   286   331\n",
            "[26,]  160   207   257   303   345\n",
            "[27,]  169   216   261   295   333\n",
            "[28,]  157   205   248   289   316\n",
            "[29,]  137   180   219   258   291\n",
            "[30,]  153   200   244   286   324\n",
            "\n",
            "$x\n",
            "[1]  8 15 22 29 36\n",
            "\n",
            "$xbar\n",
            "[1] 22\n",
            "\n"
          ]
        }
      ]
    },
    {
      "cell_type": "markdown",
      "source": [
        "We now load the rats Stan model code. Note that `//` indicate comments"
      ],
      "metadata": {
        "id": "oyo_GFKWKMRj"
      }
    },
    {
      "cell_type": "code",
      "source": [
        "# rats_stan_code <- readLines('https://raw.githubusercontent.com/stan-dev/example-models/master/bugs_examples/vol1/rats/rats.stan')\n",
        "rats_stan_code <- \"\n",
        "// http://www.mrc-bsu.cam.ac.uk/bugs/winbugs/Vol1.pdf\n",
        "// Page 3: Rats\n",
        "data {\n",
        "  int<lower=0> N;\n",
        "  int<lower=0> T;\n",
        "  real x[T];\n",
        "  real y[N, T];\n",
        "  real xbar;\n",
        "}\n",
        "parameters {\n",
        "  real alpha[N];\n",
        "  real beta[N];\n",
        "  \n",
        "  real mu_alpha;\n",
        "  real mu_beta; // beta.c in original bugs model\n",
        "  \n",
        "  real<lower=0> sigmasq_y;\n",
        "  real<lower=0> sigmasq_alpha;\n",
        "  real<lower=0> sigmasq_beta;\n",
        "}\n",
        "transformed parameters {\n",
        "  real<lower=0> sigma_y; // sigma in original bugs model\n",
        "  real<lower=0> sigma_alpha;\n",
        "  real<lower=0> sigma_beta;\n",
        "  \n",
        "  sigma_y = sqrt(sigmasq_y);\n",
        "  sigma_alpha = sqrt(sigmasq_alpha);\n",
        "  sigma_beta = sqrt(sigmasq_beta);\n",
        "}\n",
        "model {\n",
        "  mu_alpha ~ normal(0, 100);\n",
        "  mu_beta ~ normal(0, 100);\n",
        "  sigmasq_y ~ inv_gamma(0.001, 0.001);\n",
        "  sigmasq_alpha ~ inv_gamma(0.001, 0.001);\n",
        "  sigmasq_beta ~ inv_gamma(0.001, 0.001);\n",
        "  alpha ~ normal(mu_alpha, sigma_alpha); // vectorized\n",
        "  beta ~ normal(mu_beta, sigma_beta); // vectorized\n",
        "  for (n in 1 : N) {\n",
        "    for (t in 1 : T) {\n",
        "      y[n, t] ~ normal(alpha[n] + beta[n] * (x[t] - xbar), sigma_y);\n",
        "    }\n",
        "  }\n",
        "}\n",
        "generated quantities {\n",
        "  real alpha0;\n",
        "  alpha0 = mu_alpha - xbar * mu_beta;\n",
        "}\"\n",
        "cat(rats_stan_code, sep = \"\\n\")\n"
      ],
      "metadata": {
        "colab": {
          "base_uri": "https://localhost:8080/"
        },
        "id": "sOUi6esxH8C6",
        "outputId": "f2a098be-cdb1-4078-c416-74b11a7b411a"
      },
      "execution_count": null,
      "outputs": [
        {
          "output_type": "stream",
          "name": "stdout",
          "text": [
            "\n",
            "// http://www.mrc-bsu.cam.ac.uk/bugs/winbugs/Vol1.pdf\n",
            "// Page 3: Rats\n",
            "data {\n",
            "  int<lower=0> N;\n",
            "  int<lower=0> T;\n",
            "  real x[T];\n",
            "  real y[N, T];\n",
            "  real xbar;\n",
            "}\n",
            "parameters {\n",
            "  real alpha[N];\n",
            "  real beta[N];\n",
            "  \n",
            "  real mu_alpha;\n",
            "  real mu_beta; // beta.c in original bugs model\n",
            "  \n",
            "  real<lower=0> sigmasq_y;\n",
            "  real<lower=0> sigmasq_alpha;\n",
            "  real<lower=0> sigmasq_beta;\n",
            "}\n",
            "transformed parameters {\n",
            "  real<lower=0> sigma_y; // sigma in original bugs model\n",
            "  real<lower=0> sigma_alpha;\n",
            "  real<lower=0> sigma_beta;\n",
            "  \n",
            "  sigma_y = sqrt(sigmasq_y);\n",
            "  sigma_alpha = sqrt(sigmasq_alpha);\n",
            "  sigma_beta = sqrt(sigmasq_beta);\n",
            "}\n",
            "model {\n",
            "  mu_alpha ~ normal(0, 100);\n",
            "  mu_beta ~ normal(0, 100);\n",
            "  sigmasq_y ~ inv_gamma(0.001, 0.001);\n",
            "  sigmasq_alpha ~ inv_gamma(0.001, 0.001);\n",
            "  sigmasq_beta ~ inv_gamma(0.001, 0.001);\n",
            "  alpha ~ normal(mu_alpha, sigma_alpha); // vectorized\n",
            "  beta ~ normal(mu_beta, sigma_beta); // vectorized\n",
            "  for (n in 1 : N) {\n",
            "    for (t in 1 : T) {\n",
            "      y[n, t] ~ normal(alpha[n] + beta[n] * (x[t] - xbar), sigma_y);\n",
            "    }\n",
            "  }\n",
            "}\n",
            "generated quantities {\n",
            "  real alpha0;\n",
            "  alpha0 = mu_alpha - xbar * mu_beta;\n",
            "}\n"
          ]
        }
      ]
    },
    {
      "cell_type": "markdown",
      "source": [
        ""
      ],
      "metadata": {
        "id": "njlBOHrgIgK_"
      }
    },
    {
      "cell_type": "code",
      "source": [
        "# Run rstan for the rats model\n",
        "rats_fit <- stan(model_code = rats_stan_code, model_name = \"rats_model\",\n",
        "                 data = dat, iter = 2000, chains = 4)"
      ],
      "metadata": {
        "id": "KN-xMUzxIg3M"
      },
      "execution_count": null,
      "outputs": []
    },
    {
      "cell_type": "code",
      "source": [
        "# We check that no HMC draw did diverge\n",
        "check_divergences(rats_fit)"
      ],
      "metadata": {
        "colab": {
          "base_uri": "https://localhost:8080/"
        },
        "id": "mNPF44h0LlHI",
        "outputId": "20ef16f0-3615-4edc-da52-d0094d0f5b4d"
      },
      "execution_count": null,
      "outputs": [
        {
          "output_type": "stream",
          "name": "stderr",
          "text": [
            "0 of 4000 iterations ended with a divergence.\n",
            "\n"
          ]
        }
      ]
    },
    {
      "cell_type": "code",
      "source": [
        "# Print the results\n",
        "# Here we just print a few parameters\n",
        "print(rats_fit, pars = c(\"beta[1]\", \"mu_beta\"))\n"
      ],
      "metadata": {
        "colab": {
          "base_uri": "https://localhost:8080/"
        },
        "id": "kBdzx96tKToy",
        "outputId": "e4c1a0ca-4926-492c-dde1-e197371ec6d0"
      },
      "execution_count": null,
      "outputs": [
        {
          "output_type": "stream",
          "name": "stdout",
          "text": [
            "Inference for Stan model: rats_model.\n",
            "4 chains, each with iter=2000; warmup=1000; thin=1; \n",
            "post-warmup draws per chain=1000, total post-warmup draws=4000.\n",
            "\n",
            "        mean se_mean   sd 2.5%  25%  50%  75% 97.5% n_eff Rhat\n",
            "beta[1] 6.06       0 0.25 5.56 5.90 6.06 6.23  6.54  5758    1\n",
            "mu_beta 6.19       0 0.11 5.98 6.11 6.19 6.26  6.40  4418    1\n",
            "\n",
            "Samples were drawn using NUTS(diag_e) at Sun Jun 26 09:30:51 2022.\n",
            "For each parameter, n_eff is a crude measure of effective sample size,\n",
            "and Rhat is the potential scale reduction factor on split chains (at \n",
            "convergence, Rhat=1).\n"
          ]
        }
      ]
    },
    {
      "cell_type": "code",
      "source": [
        "# Print the results\n",
        "plot(rats_fit, pars = c(\"beta[1]\", \"mu_beta\"))"
      ],
      "metadata": {
        "colab": {
          "base_uri": "https://localhost:8080/"
        },
        "id": "_oREzqELKmPb",
        "outputId": "fe8990b8-9bb7-42ff-ea65-f63bb1459c41"
      },
      "execution_count": null,
      "outputs": [
        {
          "output_type": "stream",
          "name": "stderr",
          "text": [
            "ci_level: 0.8 (80% intervals)\n",
            "\n",
            "outer_level: 0.95 (95% intervals)\n",
            "\n"
          ]
        },
        {
          "output_type": "display_data",
          "data": {
            "text/plain": [
              "plot without title"
            ],
            "image/png": "[encoded data removed]"
          },
          "metadata": {
            "image/png": {
              "width": 180,
              "height": 180
            }
          }
        }
      ]
    }
  ]
}